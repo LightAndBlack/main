{
 "cells": [
  {
   "cell_type": "code",
   "execution_count": 4,
   "id": "50c0ad22",
   "metadata": {},
   "outputs": [],
   "source": [
    "import pandas as pd\n",
    "from sklearn.tree import DecisionTreeClassifier\n",
    "# from sklearn.model_selection import train_test_split\n",
    "# from sklearn.metrics import accuracy_score\n",
    "# import joblib\n",
    "from sklearn import tree\n",
    "\n",
    "# https://www.youtube.com/watch?v=7eh4d6sabA0&t=2632s\n",
    "# Python Machine Learning Tutorial (Data Science)\n",
    "# Programming with Mosh\n",
    "\n",
    "music_data = pd.read_csv('music.csv')\n",
    "X = music_data.drop(columns=['genre'])\n",
    "y = music_data['genre']\n",
    "# X_train, X_test, y_train, y_test = train_test_split(X, y, test_size=0.2)\n",
    "\n",
    "model = DecisionTreeClassifier()\n",
    "model.fit(X.values, y)\n",
    "# model\n",
    "# model.fit(X_train, y_train)\n",
    "# music_data\n",
    "# predictions = model.predict(X_test)\n",
    "\n",
    "# joblib.dump(model, 'music_recommender.joblib')\n",
    "# model = joblib.load('music_recommender.joblib')\n",
    "\n",
    "# # predictions = model.predict([[21, 1], [22, 0]])\n",
    "# predictions\n",
    "# score = accuracy_score(y_test, predictions)\n",
    "# score\n",
    "\n",
    "tree.export_graphviz(model, out_file='music-recommender.dot', \n",
    "                     feature_names=['age', 'gender'], \n",
    "                     class_names=sorted(y.unique()),\n",
    "                     label='all',\n",
    "                     rounded=True,\n",
    "                     filled=True)"
   ]
  }
 ],
 "metadata": {
  "kernelspec": {
   "display_name": "Python 3 (ipykernel)",
   "language": "python",
   "name": "python3"
  },
  "language_info": {
   "codemirror_mode": {
    "name": "ipython",
    "version": 3
   },
   "file_extension": ".py",
   "mimetype": "text/x-python",
   "name": "python",
   "nbconvert_exporter": "python",
   "pygments_lexer": "ipython3",
   "version": "3.9.12"
  }
 },
 "nbformat": 4,
 "nbformat_minor": 5
}
